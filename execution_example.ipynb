{
 "cells": [
  {
   "cell_type": "code",
   "execution_count": 2,
   "id": "f9c088e2",
   "metadata": {},
   "outputs": [],
   "source": [
    "#load modules\n",
    "from matplotlib import pyplot as plt\n",
    "import numpy as np\n",
    "from spectral1d import solve_nonlinear_problem # needed module\n",
    "from overscreening_breakdown import overscreening_breakdown #needed module\n",
    "%matplotlib inline"
   ]
  },
  {
   "cell_type": "code",
   "execution_count": null,
   "id": "43299552",
   "metadata": {},
   "outputs": [],
   "source": [
    "#init the problem\n",
    "problem = overscreening_breakdown()"
   ]
  },
  {
   "cell_type": "code",
   "execution_count": null,
   "id": "bd871d8d",
   "metadata": {},
   "outputs": [],
   "source": [
    "#set up the solver\n",
    "N = 100\n",
    "domain = [0,np.inf]\n",
    "tolerance = 1.0e-10\n",
    "use_method = \"newton\"\n",
    "L = 6\n",
    "solver = solve_nonlinear_problem(N=N, domain=[0,np.inf], tolerance=tolerance, use_method=use_method)\n",
    "solver.set_mapping_parameter(L)"
   ]
  },
  {
   "cell_type": "code",
   "execution_count": null,
   "id": "a2b5957b",
   "metadata": {},
   "outputs": [],
   "source": [
    "#set up problem.\n",
    "#If a parameter is not given, then a default value is used instead. See the source file of \"overscreening_breakdown\" for more details\n",
    "\n",
    "sigma = 20.0\n",
    "mu = 0.36\n",
    "gamma = 1\n",
    "delta = 10.0\n",
    "u0 = 0.1\n",
    "u0xxx = 0\n",
    "\n",
    "def some_func(x):\n",
    "    return u0*np.exp(-x**4)\n",
    "\n",
    "problem.set_parameters(sigma = sigma, mu = mu, gamma = gamma, delta = delta, u0 = u0, u0xxx=u0xxx, initial_guess_solution=some_func)"
   ]
  },
  {
   "cell_type": "code",
   "execution_count": null,
   "id": "a56bd37f",
   "metadata": {},
   "outputs": [],
   "source": [
    "#pass the problem to the solver\n",
    "solver.set_problem(problem)"
   ]
  },
  {
   "cell_type": "code",
   "execution_count": null,
   "id": "88e9badd",
   "metadata": {},
   "outputs": [],
   "source": [
    "# solve the problem\n",
    "c = solver.solve_problem()"
   ]
  },
  {
   "cell_type": "code",
   "execution_count": null,
   "id": "7f7ae020",
   "metadata": {},
   "outputs": [],
   "source": [
    "#optionally save and load a solution for further use\n",
    "#solution is stored in expension coefficients\n",
    "solver.save_solution(\"solution.pickle\", c)\n",
    "c1 = solver.load_data(\"solution.pickle\")\n",
    "print(\"checking difference in saved data: \", np.linalg.norm(c-c1))"
   ]
  },
  {
   "cell_type": "code",
   "execution_count": null,
   "id": "2dd954ff",
   "metadata": {},
   "outputs": [],
   "source": [
    "#see the solution\n",
    "t = np.arange(0, np.pi, 0.01)\n",
    "sol = solver.obtain_solution_in_basis(c, t)\n",
    "plt.title(\"solution on the mapped segment [0,$\\pi$]\")\n",
    "plt.plot(t, sol)\n",
    "plt.show()\n",
    "x = np.arange(0.0, 40.0, 0.1)\n",
    "sol = solver.obtain_solution_in_domain(c, x)\n",
    "plt.title(\"solution on the part of the $\\mathbb{R}^+$\")\n",
    "plt.plot(x, sol)\n",
    "plt.show()"
   ]
  },
  {
   "cell_type": "markdown",
   "id": "8ea680b2",
   "metadata": {},
   "source": [
    "Next we demonstrate the applicaiton of the size globalization for a very stiff problem using globalization in the size of the problem thanx to the natural behaviour of the spectral methods."
   ]
  },
  {
   "cell_type": "code",
   "execution_count": null,
   "id": "8191ea8d",
   "metadata": {},
   "outputs": [],
   "source": [
    "sigma = 10.0\n",
    "mu = 1\n",
    "gamma = 1/2\n",
    "delta = 50.0\n",
    "u0 = 200.0\n",
    "u0xxx = 0\n",
    "\n",
    "def some_func(x):\n",
    "    return np.exp(-x**2) #initial guess should be u0*np.exp(-x**2). This breaks the problem convergence\n",
    "\n",
    "problem.set_parameters(sigma = sigma, mu = mu, gamma = gamma, delta = delta, u0 = u0, u0xxx=u0xxx, initial_guess_solution=some_func)"
   ]
  },
  {
   "cell_type": "code",
   "execution_count": null,
   "id": "bc53044f",
   "metadata": {},
   "outputs": [],
   "source": [
    "# normal size problem fails to converge due to very stiff nonlinearity (artificially made)\n",
    "N = 100\n",
    "solver = solve_nonlinear_problem(N=N, domain=[0,np.inf], tolerance=tolerance, use_method=use_method, total_iterations = 20, use_globalization = False)\n",
    "solver.set_mapping_parameter(L)\n",
    "solver.set_problem(problem)\n",
    "c = solver.solve_problem()"
   ]
  },
  {
   "cell_type": "code",
   "execution_count": null,
   "id": "500d15b2",
   "metadata": {},
   "outputs": [],
   "source": [
    "# we perfrom a set of iterations to update a better initial guess from the smaller problem size\n",
    "N_base = 20\n",
    "N = N_base\n",
    "c1 = None\n",
    "for it in range(2,11):\n",
    "    print(\"running on N = \", N)\n",
    "    solver = solve_nonlinear_problem(N=N, domain=[0,np.inf], tolerance=tolerance, use_method=use_method, total_iterations = 20, use_globalization = False)\n",
    "    solver.set_mapping_parameter(L)\n",
    "    solver.set_problem(problem)\n",
    "    c = solver.solve_problem(c1)\n",
    "    if solver.is_converged():\n",
    "        c1 = np.copy(c)\n",
    "        N = N_base*it\n",
    "    else:\n",
    "        N = N - 1"
   ]
  },
  {
   "cell_type": "code",
   "execution_count": null,
   "id": "350eadfa",
   "metadata": {},
   "outputs": [],
   "source": [
    "#and check 2 final consecutive solutions \n",
    "t = np.arange(0, np.pi, 0.01)\n",
    "sol1 = solver.obtain_solution_in_basis(c1, t)\n",
    "sol = solver.obtain_solution_in_basis(c, t)\n",
    "plt.title(\"solution on the mapped segment [0,$\\pi$]\")\n",
    "plt.plot(t, sol1, '.')\n",
    "plt.plot(t, sol)\n",
    "plt.show()"
   ]
  },
  {
   "cell_type": "markdown",
   "id": "d4d0f000",
   "metadata": {},
   "source": [
    "Next we demonstrate the applicaiton of the homotopy* globalization for the same stiff problem.\n",
    "\n",
    "*https://en.wikipedia.org/wiki/Homotopy"
   ]
  },
  {
   "cell_type": "code",
   "execution_count": null,
   "id": "44dd9ae2",
   "metadata": {},
   "outputs": [],
   "source": [
    "solver = solve_nonlinear_problem(N=100, domain=[0,np.inf], tolerance=tolerance, use_method=\"newton\", total_iterations = 20, use_globalization = True)\n",
    "solver.set_mapping_parameter(L)\n",
    "solver.set_problem(problem)"
   ]
  },
  {
   "cell_type": "code",
   "execution_count": null,
   "id": "5f4cd6f0",
   "metadata": {},
   "outputs": [],
   "source": [
    "c2 = solver.solve_problem()"
   ]
  },
  {
   "cell_type": "code",
   "execution_count": null,
   "id": "8c67686a",
   "metadata": {},
   "outputs": [],
   "source": [
    "#and demonstrate the converged solution compared with the previous one\n",
    "t = np.arange(0, np.pi, 0.01)\n",
    "sol = solver.obtain_solution_in_basis(c1, t)\n",
    "sol2 = solver.obtain_solution_in_basis(c2, t)\n",
    "plt.title(\"compare two solutions on the mapped segment [0,$\\pi$]\")\n",
    "plt.plot(t, sol2,'.')\n",
    "plt.plot(t, sol)\n",
    "plt.show()\n",
    "plt.title(\"error between two solutions (obtained from size and homotopy globalizations) on the mapped segment [0, $\\pi$]\")\n",
    "plt.plot(t, sol-sol2)\n",
    "plt.show()"
   ]
  },
  {
   "cell_type": "markdown",
   "id": "d4405d03",
   "metadata": {},
   "source": [
    "**Here we demonstrate how to find a stable value of the mapping parameter L for the given problem.**\n",
    "\n",
    "One should choose the smallest possible value of L at which the solutions are stable w.r.t. the discretization"
   ]
  },
  {
   "cell_type": "code",
   "execution_count": null,
   "id": "969831f6",
   "metadata": {},
   "outputs": [],
   "source": [
    "sigma = 10.0\n",
    "mu = 1\n",
    "gamma = 1/2\n",
    "delta = 10.0\n",
    "u0 = 1.0\n",
    "u0xxx = 0\n",
    "\n",
    "def some_func(x):\n",
    "    return u0*np.exp(-x**2) #solution initial guess\n",
    "\n",
    "problem.set_parameters(sigma = sigma, mu = mu, gamma = gamma, delta = delta, u0 = u0, u0xxx=u0xxx, initial_guess_solution=some_func)"
   ]
  },
  {
   "cell_type": "code",
   "execution_count": null,
   "id": "dcda04cd",
   "metadata": {},
   "outputs": [],
   "source": [
    "Nall = [30,70,80,100]\n",
    "Lall = [1,2,3,4,5]\n",
    "t = np.arange(0, np.pi, 0.01)\n",
    "x = np.arange(0, 100, 0.1)\n",
    "for L in Lall:\n",
    "    c_dict = {}\n",
    "    c1 = None\n",
    "    for N in Nall:\n",
    "        solver = solve_nonlinear_problem(N=N, domain=[0,np.inf], tolerance=tolerance, use_method=\"newton\", total_iterations = 20, use_globalization = False)\n",
    "        solver.set_mapping_parameter(L)\n",
    "        solver.set_problem(problem)\n",
    "        c = solver.solve_problem(c1)\n",
    "        c_dict[N] = c\n",
    "        c1 = np.copy(c)\n",
    "    for N in Nall:\n",
    "        c_l = c_dict[N]\n",
    "        sol = solver.obtain_solution_in_basis(c_l, t)\n",
    "        plt.plot(t, sol, label=N)\n",
    "        \n",
    "    plt.legend()\n",
    "    plt.title(\"segement, L = \" + str(L))\n",
    "    plt.show()\n",
    "    \n",
    "    for N in Nall:\n",
    "        c_l = c_dict[N]\n",
    "        sol = solver.obtain_solution_in_domain(c_l, x)\n",
    "        plt.plot(x, sol, label=N)\n",
    "        \n",
    "    plt.legend()\n",
    "    plt.title(\"$\\mathbb{R}^+$, L = \" + str(L))\n",
    "    plt.show()    \n",
    "    \n",
    "print(\"For this problem it is recomended to use L=4.\")"
   ]
  },
  {
   "cell_type": "code",
   "execution_count": null,
   "id": "595e8f61",
   "metadata": {},
   "outputs": [],
   "source": []
  },
  {
   "cell_type": "code",
   "execution_count": 63,
   "id": "5afdf894",
   "metadata": {},
   "outputs": [
    {
     "name": "stdout",
     "output_type": "stream",
     "text": [
      "newton: relative target tolerance =  1.0099504938362077e-11\n",
      "newton: iteration  1 , residual norm  0.005097207502964341 , wight =  1.0\n",
      "newton: iteration  2 , residual norm  2.023072834355502e-06 , wight =  1.0\n",
      "newton: iteration  3 , residual norm  6.245184057990477e-13 , wight =  1.0\n",
      "converged with norm =  6.245184057990477e-13\n"
     ]
    },
    {
     "data": {
      "image/png": "[encoded data removed]",
      "text/plain": [
       "<Figure size 640x480 with 1 Axes>"
      ]
     },
     "metadata": {},
     "output_type": "display_data"
    },
    {
     "data": {
      "image/png": "[encoded data removed]",
      "text/plain": [
       "<Figure size 640x480 with 1 Axes>"
      ]
     },
     "metadata": {},
     "output_type": "display_data"
    }
   ],
   "source": [
    "#Example on hw to solve the Poisson problem.\n",
    "# u_xx = f(x,u)\n",
    "\n",
    "sigma = 1.0\n",
    "mu = 1\n",
    "gamma = 1\n",
    "delta = 0.0  # remove the 4-th order derivative\n",
    "u0 = 1.0     \n",
    "u0xxx = None # remove the third derivative boundary condition\n",
    "\n",
    "\n",
    "def some_func(x):\n",
    "    return u0*np.exp(-x**4)\n",
    "problem = overscreening_breakdown()\n",
    "problem.set_parameters(sigma = sigma, mu = mu, gamma = gamma, delta = delta, u0 = u0, u0xxx=u0xxx, initial_guess_solution=some_func)\n",
    "#pass the problem to the solver\n",
    "solver.set_problem(problem)\n",
    "# solve the problem\n",
    "c = solver.solve_problem()\n",
    "\n",
    "#see the solution\n",
    "t = np.arange(0, np.pi, 0.01)\n",
    "sol = solver.obtain_solution_in_basis(c, t)\n",
    "plt.title(\"solution on the mapped segment [0,$\\pi$]\")\n",
    "plt.plot(t, sol)\n",
    "plt.show()\n",
    "x = np.arange(0.0, 40.0, 0.1)\n",
    "sol = solver.obtain_solution_in_domain(c, x)\n",
    "plt.title(\"solution on the part of the $\\mathbb{R}^+$\")\n",
    "plt.plot(x, sol)\n",
    "plt.show()"
   ]
  }
 ],
 "metadata": {
  "kernelspec": {
   "display_name": "Python 3 (ipykernel)",
   "language": "python",
   "name": "python3"
  },
  "language_info": {
   "codemirror_mode": {
    "name": "ipython",
    "version": 3
   },
   "file_extension": ".py",
   "mimetype": "text/x-python",
   "name": "python",
   "nbconvert_exporter": "python",
   "pygments_lexer": "ipython3",
   "version": "3.9.13"
  }
 },
 "nbformat": 4,
 "nbformat_minor": 5
}
