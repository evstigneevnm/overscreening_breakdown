{
 "cells": [
  {
   "cell_type": "markdown",
   "id": "ae3cde94",
   "metadata": {},
   "source": [
    "## This notebook provides a set of examples on how to use the numerical method for the overscreening breakdown problem.\n",
    "\n",
    "#### The equations under consideration in a general form are:\n",
    "$$\n",
    "\\delta^2 u_{xxxx} - u_{xx} = f(u, x), x\\in[0, \\infty)\n",
    "$$\n",
    "\n",
    "#### where the right hand side function for the overscreening breakdown problem is formulated as:\n",
    "\n",
    "$$\n",
    "f(u,x) :=  \\frac{\\sinh(u)}{1 +2\\gamma \\sinh^2\\left(u/2\\right)} - \\frac{0.5 \\Phi(x) e^{u}}{1 +2\\gamma \\sinh^2\\left(u/2\\right)},\n",
    "$$\n",
    "\n",
    "\n",
    "$$\n",
    "\\Phi(x) = \\mu \\frac{1}{\\sqrt{2 \\pi}} \\exp{\\left(-\\frac{x^2}{2(\\sigma/L_D)^2}\\right)}\n",
    "$$"
   ]
  },
  {
   "cell_type": "code",
   "execution_count": null,
   "id": "f9c088e2",
   "metadata": {},
   "outputs": [],
   "source": [
    "#load modules\n",
    "\n",
    "from matplotlib import pyplot as plt\n",
    "import numpy as np\n",
    "from spectral1d import solve_nonlinear_problem # needed module\n",
    "from overscreening_breakdown import overscreening_breakdown #needed module\n",
    "%matplotlib inline"
   ]
  },
  {
   "cell_type": "code",
   "execution_count": null,
   "id": "43299552",
   "metadata": {},
   "outputs": [],
   "source": [
    "#init the problem\n",
    "\n",
    "problem = overscreening_breakdown()"
   ]
  },
  {
   "cell_type": "code",
   "execution_count": null,
   "id": "bd871d8d",
   "metadata": {},
   "outputs": [],
   "source": [
    "#set up the solver by providing numerical parameters.\n",
    "\n",
    "N = 100\n",
    "domain = [0,np.inf]\n",
    "tolerance = 1.0e-10\n",
    "use_method = \"newton\"\n",
    "L = 6 #on the sellection of this parameter, see bellow \n",
    "solver = solve_nonlinear_problem(N=N, domain=[0,np.inf], tolerance=tolerance, use_method=use_method)\n",
    "solver.set_mapping_parameter(L)"
   ]
  },
  {
   "cell_type": "markdown",
   "id": "10d954c7",
   "metadata": {},
   "source": [
    "### On how to select the parameter $L$, see [bellow](#check_L_values).\n",
    "But we recommend exploring all cells to be certain on what you are doing."
   ]
  },
  {
   "cell_type": "code",
   "execution_count": null,
   "id": "a2b5957b",
   "metadata": {},
   "outputs": [],
   "source": [
    "#set up the problem.\n",
    "#If a parameter is not given, then a default value is used instead. \n",
    "#See the source file of \"overscreening_breakdown\" for more details for defauls values\n",
    "\n",
    "sigma = 20.0\n",
    "mu = 0.36\n",
    "gamma = 1\n",
    "delta = 10.0\n",
    "u0 = 0.1\n",
    "u0xxx = 0\n",
    "\n",
    "#use some function as initial guess for the root in the Newton's method.\n",
    "def some_func(x):\n",
    "    return u0*np.exp(-x)\n",
    "\n",
    "#apply parameters\n",
    "problem.set_parameters(sigma = sigma, mu = mu, gamma = gamma, delta = delta, u0 = u0, u0xxx=u0xxx, initial_guess_solution=some_func)"
   ]
  },
  {
   "cell_type": "code",
   "execution_count": null,
   "id": "a56bd37f",
   "metadata": {},
   "outputs": [],
   "source": [
    "#pass the problem to the solver\n",
    "\n",
    "solver.set_problem(problem)"
   ]
  },
  {
   "cell_type": "code",
   "execution_count": null,
   "id": "88e9badd",
   "metadata": {},
   "outputs": [],
   "source": [
    "# solve the problem\n",
    "\n",
    "c = solver.solve_problem()"
   ]
  },
  {
   "cell_type": "code",
   "execution_count": null,
   "id": "7f7ae020",
   "metadata": {},
   "outputs": [],
   "source": [
    "#optionally save and load a solution for further use\n",
    "#solution is stored in expension coefficients\n",
    "\n",
    "solver.save_solution(\"solution.pickle\", c) #saving solution to file \"solution.pickle\"\n",
    "c1 = solver.load_data(\"solution.pickle\") #loading solution from file \"solution.pickle\" to a variable c1\n",
    "print(\"checking difference in saved data: \", np.linalg.norm(c-c1)) #testing, that everything is ok"
   ]
  },
  {
   "cell_type": "code",
   "execution_count": null,
   "id": "2dd954ff",
   "metadata": {},
   "outputs": [],
   "source": [
    "#plotting the solution in different domains\n",
    "\n",
    "#plotting in computational domain in [0, $pi$]\n",
    "t = np.arange(0, np.pi, 0.01) \n",
    "sol = solver.obtain_solution_in_basis(c, t)\n",
    "plt.title(\"solution on the mapped segment [0,$\\pi$]\")\n",
    "plt.plot(t, sol)\n",
    "plt.show()\n",
    "\n",
    "#plotting in physical domain for 0<=x<=40\n",
    "x = np.arange(0.0, 40.0, 0.1)\n",
    "sol = solver.obtain_solution_in_domain(c, x)\n",
    "plt.title(\"solution on the part of the $\\mathbb{R}^+$\")\n",
    "plt.plot(x, sol)\n",
    "plt.show()"
   ]
  },
  {
   "cell_type": "markdown",
   "id": "8ea680b2",
   "metadata": {},
   "source": [
    "Next we demonstrate the applicaiton of the size globalization for a very stiff problem using globalization in the size of the problem thanks to the natural behaviour of spectral methods."
   ]
  },
  {
   "cell_type": "code",
   "execution_count": null,
   "id": "8191ea8d",
   "metadata": {},
   "outputs": [],
   "source": [
    "#we are setting initial parameters to the problem for this test, specially desiged to be very stiff\n",
    "sigma = 10.0\n",
    "mu = 1\n",
    "gamma = 1/2\n",
    "delta = 50.0\n",
    "u0 = 100.0\n",
    "u0xxx = 0\n",
    "\n",
    "#initial guess should be u0*np.exp(-x**2). This breaks the problem convergence\n",
    "def some_func(x):\n",
    "    return np.exp(-x**2) \n",
    "\n",
    "problem.set_parameters(sigma = sigma, mu = mu, gamma = gamma, delta = delta, u0 = u0, u0xxx=u0xxx, initial_guess_solution=some_func)"
   ]
  },
  {
   "cell_type": "code",
   "execution_count": null,
   "id": "bc53044f",
   "metadata": {},
   "outputs": [],
   "source": [
    "# normal size problem fails to converge due to very stiff nonlinearity (artificially made)\n",
    "\n",
    "N = 100\n",
    "solver = solve_nonlinear_problem(N=N, domain=[0,np.inf], tolerance=tolerance, use_method=use_method, total_iterations = 20, use_globalization = False)\n",
    "solver.set_mapping_parameter(L)\n",
    "solver.set_problem(problem)\n",
    "c = solver.solve_problem()"
   ]
  },
  {
   "cell_type": "code",
   "execution_count": null,
   "id": "500d15b2",
   "metadata": {},
   "outputs": [],
   "source": [
    "# now we perfrom a set of iterations to update a better initial guess from the smaller problem size\n",
    "N_base = 10\n",
    "N = N_base # starting solutins from N_base and then increasing the resolution gradually\n",
    "c1 = None\n",
    "it = 2\n",
    "while it < 12:\n",
    "    print(\"running on N = \", N)\n",
    "    solver = solve_nonlinear_problem(N=N, domain=[0,np.inf], tolerance=tolerance, use_method=use_method, total_iterations = 20, use_globalization = False)\n",
    "    solver.set_mapping_parameter(L)\n",
    "    solver.set_problem(problem)\n",
    "    c = solver.solve_problem(c1)\n",
    "    if solver.is_converged():\n",
    "        c1 = np.copy(c)\n",
    "        N = N_base*it\n",
    "        it = it + 1\n",
    "    else:\n",
    "        N = N - 5\n",
    "        "
   ]
  },
  {
   "cell_type": "code",
   "execution_count": null,
   "id": "350eadfa",
   "metadata": {},
   "outputs": [],
   "source": [
    "#and check 2 final consecutive solutions \n",
    "t = np.arange(0, np.pi, 0.01)\n",
    "sol1 = solver.obtain_solution_in_basis(c1, t)\n",
    "sol = solver.obtain_solution_in_basis(c, t)\n",
    "plt.title(\"solution on the mapped segment [0,$\\pi$]\")\n",
    "plt.plot(t, sol1, '.')\n",
    "plt.plot(t, sol)\n",
    "plt.show()"
   ]
  },
  {
   "cell_type": "markdown",
   "id": "d4d0f000",
   "metadata": {},
   "source": [
    "Next we demonstrate the applicaiton of the homotopy* globalization for the same stiff problem.\n",
    "\n",
    "*https://en.wikipedia.org/wiki/Homotopy"
   ]
  },
  {
   "cell_type": "code",
   "execution_count": null,
   "id": "44dd9ae2",
   "metadata": {},
   "outputs": [],
   "source": [
    "solver = solve_nonlinear_problem(N=100, domain=[0,np.inf], tolerance=tolerance, use_method=\"newton\", total_iterations = 20, use_globalization = True)\n",
    "solver.set_mapping_parameter(L)\n",
    "solver.set_problem(problem)"
   ]
  },
  {
   "cell_type": "code",
   "execution_count": null,
   "id": "5f4cd6f0",
   "metadata": {},
   "outputs": [],
   "source": [
    "c2 = solver.solve_problem()"
   ]
  },
  {
   "cell_type": "code",
   "execution_count": null,
   "id": "8c67686a",
   "metadata": {},
   "outputs": [],
   "source": [
    "#and demonstrate the converged solution compared with the previous one\n",
    "t = np.arange(0, np.pi, 0.01)\n",
    "sol = solver.obtain_solution_in_basis(c1, t)\n",
    "sol2 = solver.obtain_solution_in_basis(c2, t)\n",
    "plt.title(\"compare two solutions on the mapped segment [0,$\\pi$]\")\n",
    "plt.plot(t, sol2,'.')\n",
    "plt.plot(t, sol)\n",
    "plt.show()\n",
    "plt.title(\"error between two solutions (obtained from size and homotopy globalizations) on the mapped segment [0, $\\pi$]\")\n",
    "plt.plot(t, sol-sol2)\n",
    "plt.show()"
   ]
  },
  {
   "cell_type": "markdown",
   "id": "d4405d03",
   "metadata": {},
   "source": [
    "<a id='check_L_values'></a>\n",
    "## Here we demonstrate how to find a stable value of the mapping parameter L for the given problem.\n",
    "\n",
    "One should choose the smallest possible value of L at which the solutions are stable w.r.t. the discretization\n"
   ]
  },
  {
   "cell_type": "code",
   "execution_count": null,
   "id": "969831f6",
   "metadata": {},
   "outputs": [],
   "source": [
    "#setup desired problem parameters for the test\n",
    "\n",
    "sigma = 10.0\n",
    "mu = 1\n",
    "gamma = 1/2\n",
    "delta = 10.0\n",
    "u0 = 1.0\n",
    "u0xxx = 0\n",
    "\n",
    "#solution initial guess\n",
    "def some_func(x):\n",
    "    return u0*np.exp(-x) \n",
    "\n",
    "problem.set_parameters(sigma = sigma, mu = mu, gamma = gamma, delta = delta, u0 = u0, u0xxx=u0xxx, initial_guess_solution=some_func)"
   ]
  },
  {
   "cell_type": "code",
   "execution_count": null,
   "id": "dcda04cd",
   "metadata": {},
   "outputs": [],
   "source": [
    "#setup different sizes to be checked, so we can select the value of 'L' independent on the parameter value\n",
    "Nall = [30,70,80,100] \n",
    "Lall = [1,2,3,4,5,6] #setup different values of the parameter 'L' to be checked\n",
    "t = np.arange(0, np.pi, 0.01)\n",
    "x = np.arange(0, 100, 0.1)\n",
    "for L in Lall:\n",
    "    c_dict = {}\n",
    "    c1 = None\n",
    "    for N in Nall:\n",
    "        solver = solve_nonlinear_problem(N=N, domain=[0,np.inf], tolerance=tolerance, use_method=\"newton\", total_iterations = 20, use_globalization = False)\n",
    "        solver.set_mapping_parameter(L)\n",
    "        solver.set_problem(problem)\n",
    "        c = solver.solve_problem(c1)\n",
    "        c_dict[N] = c\n",
    "        c1 = np.copy(c)\n",
    "    for N in Nall:\n",
    "        c_l = c_dict[N]\n",
    "        sol = solver.obtain_solution_in_basis(c_l, t)\n",
    "        plt.plot(t, sol, label=N)\n",
    "        \n",
    "    plt.legend()\n",
    "    plt.title(\"segement, L = \" + str(L))\n",
    "    plt.show()\n",
    "    \n",
    "    for N in Nall:\n",
    "        c_l = c_dict[N]\n",
    "        sol = solver.obtain_solution_in_domain(c_l, x)\n",
    "        plt.plot(x, sol, label=N)\n",
    "        \n",
    "    plt.legend()\n",
    "    plt.title(\"$\\mathbb{R}^+$, L = \" + str(L))\n",
    "    plt.show()    \n",
    "    \n",
    "print(\"For this problem it is recomended to use L=5 or L=6.\")"
   ]
  },
  {
   "cell_type": "markdown",
   "id": "9acd1fca",
   "metadata": {},
   "source": [
    "In the section bellow we demonstrate how to solve the Poisson problem in the form:\n",
    "$$\n",
    "u_{xx}=f(x,u), x\\in[0, \\infty)\n",
    "$$"
   ]
  },
  {
   "cell_type": "code",
   "execution_count": null,
   "id": "5afdf894",
   "metadata": {},
   "outputs": [],
   "source": [
    "#setup parameters for the problem\n",
    "\n",
    "sigma = 1.0\n",
    "mu = 1\n",
    "gamma = 1\n",
    "delta = 0.0  # remove the 4-th order derivative\n",
    "u0 = 1.0     \n",
    "u0xxx = None # remove the third derivative boundary condition\n",
    "\n",
    "#initial guess for the solutions\n",
    "def some_func(x):\n",
    "    return u0*np.exp(-x)\n",
    "\n",
    "#init problem class\n",
    "problem = overscreening_breakdown()\n",
    "#set parameters\n",
    "problem.set_parameters(sigma = sigma, mu = mu, gamma = gamma, delta = delta, u0 = u0, u0xxx=u0xxx, initial_guess_solution=some_func)\n",
    "#pass the problem to the solver\n",
    "solver.set_problem(problem)\n",
    "# solve the problem\n",
    "c = solver.solve_problem()\n",
    "\n",
    "#see the solution\n",
    "t = np.arange(0, np.pi, 0.01)\n",
    "sol = solver.obtain_solution_in_basis(c, t)\n",
    "plt.title(\"solution on the mapped segment [0,$\\pi$]\")\n",
    "plt.plot(t, sol)\n",
    "plt.show()\n",
    "x = np.arange(0.0, 10.0, 0.1)\n",
    "sol = solver.obtain_solution_in_domain(c, x)\n",
    "plt.title(\"solution on the part of the $\\mathbb{R}^+$\")\n",
    "plt.plot(x, sol)\n",
    "plt.show()"
   ]
  },
  {
   "cell_type": "markdown",
   "id": "d98ba968",
   "metadata": {},
   "source": [
    "### Bellow some additional tests are provided.\n",
    "\n",
    "Feel free to test your parameters as well."
   ]
  },
  {
   "cell_type": "code",
   "execution_count": null,
   "id": "56f679be",
   "metadata": {},
   "outputs": [],
   "source": [
    "#set up problem.\n",
    "#If a parameter is not given, then a default value is used instead. See the source file of \"overscreening_breakdown\" for more details\n",
    "\n",
    "sigma = 20.0\n",
    "mu = 0.0\n",
    "gamma = 0.1\n",
    "delta = 0.0\n",
    "u0 = 0.1\n",
    "u0xxx = 0\n",
    "\n",
    "def some_func(x):\n",
    "    return u0*np.exp(-x**4)\n",
    "\n",
    "problem.set_parameters(sigma = sigma, mu = mu, gamma = gamma, delta = delta, u0 = u0, u0xxx=u0xxx, initial_guess_solution=some_func)"
   ]
  },
  {
   "cell_type": "code",
   "execution_count": null,
   "id": "0e7be694",
   "metadata": {},
   "outputs": [],
   "source": [
    "solver.set_problem(problem)\n",
    "c = solver.solve_problem()\n",
    "#see the solution\n",
    "t = np.arange(0, np.pi, 0.01)\n",
    "sol = solver.obtain_solution_in_basis(c, t)\n",
    "plt.title(\"solution on the mapped segment [0,$\\pi$]\")\n",
    "plt.plot(t, sol)\n",
    "plt.show()\n",
    "x = np.arange(0.0, 40.0, 0.1)\n",
    "sol = solver.obtain_solution_in_domain(c, x)\n",
    "plt.title(\"solution on the part of the $\\mathbb{R}^+$\")\n",
    "plt.plot(x, sol)\n",
    "plt.show()"
   ]
  },
  {
   "cell_type": "code",
   "execution_count": null,
   "id": "8ff8b83a",
   "metadata": {},
   "outputs": [],
   "source": [
    "# we perfrom a set of iterations to update a better initial guess from the smaller problem size\n",
    "def some_func(x):\n",
    "    return u0*np.exp(-x**4)\n",
    "\n",
    "L = 1\n",
    "tolerance = 1.0e-10\n",
    "N = 60\n",
    "sigma = 20.0\n",
    "mu = 0.0\n",
    "gamma = 1.0\n",
    "delta = 0.0\n",
    "u0 = 10.0\n",
    "u0xxx = 0\n",
    "u0_c = 0.1\n",
    "c1 = None\n",
    "alpha = 1.0\n",
    "\n",
    "def some_func(x):\n",
    "    return 2*np.log((1.0+np.tanh(u0/4.0)*np.exp(-x))/(1.0-np.tanh(u0/4.0)*np.exp(-x)))\n",
    "\n",
    "for it in range(1,1000):\n",
    "    print(\"running on gamma = \", gamma)\n",
    "    solver = solve_nonlinear_problem(N=N, domain=[0,np.inf], tolerance=tolerance, use_method=use_method, total_iterations = 100, use_globalization = False)\n",
    "    solver.set_mapping_parameter(L)\n",
    "    problem.set_parameters(sigma = sigma, mu = mu, gamma = gamma, delta = delta, u0 = u0, u0xxx=u0xxx, initial_guess_solution=some_func)\n",
    "    solver.set_problem(problem)\n",
    "    c = solver.solve_problem(c1)\n",
    "    if solver.is_converged():\n",
    "        c1 = np.copy(c)\n",
    "        gamma_old = gamma\n",
    "        gamma = gamma*0.5\n",
    "        gamma_found = gamma;\n",
    "        alpha = 1.0\n",
    "    else:\n",
    "        alpha = alpha*0.5\n",
    "        gamma = (1-alpha)*gamma_old + alpha*gamma_found\n",
    "    if gamma == 0.0:\n",
    "        break\n",
    "    if gamma<1.0e-12:\n",
    "        gamma = 0.0"
   ]
  },
  {
   "cell_type": "code",
   "execution_count": null,
   "id": "6a7e9a8c",
   "metadata": {},
   "outputs": [],
   "source": [
    "# we apply homotopy when solution fails to converge for some bad RHS\n",
    "def some_func(x):\n",
    "    return u0*np.exp(-x**2)\n",
    "L = 1\n",
    "tolerance = 1.0e-10\n",
    "N = 100\n",
    "sigma = 20.0\n",
    "mu = 0.0\n",
    "gamma = 0.0\n",
    "\n",
    "delta = 0.0\n",
    "u0 = 2.0\n",
    "u0xxx = 0\n",
    "def some_func(x):\n",
    "    return 2*np.log((1.0+np.tanh(u0/4.0)*np.exp(-x))/(1.0-np.tanh(u0/4.0)*np.exp(-x)))\n",
    "\n",
    "solver = solve_nonlinear_problem(N=N, domain=[0,np.inf], tolerance=tolerance, use_method=use_method, total_iterations = 10, use_globalization = True)\n",
    "solver.set_mapping_parameter(L)\n",
    "problem.set_parameters(sigma = sigma, mu = mu, gamma = gamma, delta = delta, u0 = u0, u0xxx=u0xxx, initial_guess_solution=some_func)\n",
    "solver.set_problem(problem)\n",
    "c = solver.solve_problem()"
   ]
  },
  {
   "cell_type": "code",
   "execution_count": null,
   "id": "e4c15d15",
   "metadata": {},
   "outputs": [],
   "source": [
    "#see the solution\n",
    "t = np.arange(0, np.pi, 0.01)\n",
    "sol = solver.obtain_solution_in_basis(c, t)\n",
    "plt.title(\"solution on the mapped segment [0,$\\pi$]\")\n",
    "plt.plot(t, sol)\n",
    "plt.show()\n",
    "x = np.arange(0.0, 5.0, 0.01)\n",
    "sol = solver.obtain_solution_in_domain(c, x)\n",
    "plt.title(\"solution on the part of the $\\mathbb{R}^+$\")\n",
    "plt.plot(x, sol)\n",
    "plt.show()"
   ]
  }
 ],
 "metadata": {
  "kernelspec": {
   "display_name": "Python 3 (ipykernel)",
   "language": "python",
   "name": "python3"
  },
  "language_info": {
   "codemirror_mode": {
    "name": "ipython",
    "version": 3
   },
   "file_extension": ".py",
   "mimetype": "text/x-python",
   "name": "python",
   "nbconvert_exporter": "python",
   "pygments_lexer": "ipython3",
   "version": "3.9.13"
  }
 },
 "nbformat": 4,
 "nbformat_minor": 5
}
