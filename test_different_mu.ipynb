{
 "cells": [
  {
   "cell_type": "markdown",
   "id": "d82fb89c",
   "metadata": {},
   "source": [
    "This file contains a test for different values of $\\mu$ for different values of $L$.\n",
    "In the end it provides graphs that deminstrate the diference of solutions for different $\\mu$ values\n",
    "as well as show relative error (in %) in $l_2$ norm between different values of $L$."
   ]
  },
  {
   "cell_type": "code",
   "execution_count": null,
   "id": "805096ad",
   "metadata": {},
   "outputs": [],
   "source": [
    "#load modules.\n",
    "\n",
    "from matplotlib import pyplot as plt\n",
    "import numpy as np\n",
    "from spectral1d import solve_nonlinear_problem # needed module\n",
    "from overscreening_breakdown import overscreening_breakdown #needed module\n",
    "%matplotlib inline"
   ]
  },
  {
   "cell_type": "code",
   "execution_count": null,
   "id": "36285c8b",
   "metadata": {},
   "outputs": [],
   "source": [
    "#set up values for the problem and solve it.\n",
    "\n",
    "sigma = 20.0\n",
    "mu = 0.36\n",
    "gamma = 1\n",
    "delta = 10.0\n",
    "u0 = 0.1\n",
    "u0xxx = 0\n",
    "\n",
    "#setup function that is used as initial guess for a solution\n",
    "def some_func(x):\n",
    "    return u0*np.exp(-x**2)\n",
    "\n",
    "#formulate a problem\n",
    "problem = overscreening_breakdown()\n",
    "N = 100\n",
    "domain = [0,np.inf]\n",
    "tolerance = 1.0e-12\n",
    "use_method = \"newton\"\n",
    "Ls = [4,5,6]\n",
    "\n",
    "#what values of mu are considered\n",
    "mu_all = [0.35, 0.36, 0.37, 0.38, 0.39]\n",
    "c_all = []\n",
    "rhs_all = []\n",
    "solution_all = []\n",
    "x = np.arange(0.0, 50.0, 0.1) #plotting x from 0 to 50\n",
    "c = None #store solution coefficients for initial guess\n",
    "for L in Ls:\n",
    "    rhs_all_mu = []\n",
    "    solution_all = []\n",
    "    for mu_l in mu_all:\n",
    "        solver = solve_nonlinear_problem(N=N, domain=[0,np.inf], tolerance=tolerance, use_method=use_method)\n",
    "        print(\"L = \", L)\n",
    "        solver.set_mapping_parameter(L)    \n",
    "        problem.set_parameters(sigma = sigma, mu = mu_l, gamma = gamma, delta = delta, u0 = u0, u0xxx=u0xxx, initial_guess_solution=some_func)\n",
    "        solver.set_problem(problem)\n",
    "        if type(c) == None:\n",
    "            c = solver.solve_problem()\n",
    "        else:\n",
    "            c = solver.solve_problem(c)\n",
    "        rhs_l = solver.obtain_rhs_in_domain(c, x, problem)\n",
    "        solution_l = solver.obtain_solution_in_domain(c, x)    \n",
    "        rhs_all_mu.append(rhs_l)\n",
    "        solution_all.append(solution_l)    \n",
    "    rhs_all.append(rhs_all_mu)\n",
    "        \n",
    "plt.title(\"solution on the part of the $\\mathbb{R}^+$\")\n",
    "legend = []\n",
    "for solution,mu in zip(solution_all, mu_all):\n",
    "    plt.plot(x, solution)\n",
    "    legend.append(\"$\\mu$ = {}\".format(mu))\n",
    "plt.legend(legend)\n",
    "plt.show()\n",
    "\n",
    "legend = []\n",
    "plt.title(\"rhs on the part of the $\\mathbb{R}^+$\")\n",
    "for rhs_all_L, L in zip(rhs_all, Ls):\n",
    "    for rhs,mu in zip(rhs_all_L, mu_all):\n",
    "        plt.plot(x, rhs)\n",
    "        legend.append(\"$\\mu$ = {}, L = {}\".format(mu, L))\n",
    "plt.legend(legend)    \n",
    "plt.show()\n",
    "\n"
   ]
  },
  {
   "cell_type": "code",
   "execution_count": null,
   "id": "c3d33770",
   "metadata": {},
   "outputs": [],
   "source": [
    "#simple integration for a test. More advanced quadartures can be used instead.\n",
    "\n",
    "def integrate_rhs(rhs, dx):\n",
    "    i_val = sum(rhs)*dx\n",
    "    return i_val;\n",
    "    \n",
    "        \n",
    "def integrate_rhs_up_to_x(rhs, dx, all_x, to_x):\n",
    "    mask = all_x<=to_x\n",
    "    return sum(rhs*mask)*dx\n",
    "\n",
    "def integrate_rhs_up_to_x_all(rhs, dx, all_x, to_x):\n",
    "    res = []\n",
    "    for x_p in to_x:\n",
    "        mask = all_x<=x_p\n",
    "        res.append(sum(rhs*mask)*dx)\n",
    "    \n",
    "    return res"
   ]
  },
  {
   "cell_type": "code",
   "execution_count": null,
   "id": "6cda13a3",
   "metadata": {},
   "outputs": [],
   "source": [
    "dx = 0.1/50.0\n",
    "mask = np.tril(np.ones([len(x),len(x)]))\n",
    "xx = mask*x\n",
    "res_all = []\n",
    "for rhs_all_L in rhs_all:\n",
    "    res_all_L = []\n",
    "    for rhs in rhs_all_L:\n",
    "        res = integrate_rhs_up_to_x_all(rhs, dx, x, xx)/integrate_rhs(rhs, dx)\n",
    "        res_all_L.append(res)\n",
    "    res_all.append(res_all_L)"
   ]
  },
  {
   "cell_type": "code",
   "execution_count": null,
   "id": "8bbe72b7",
   "metadata": {},
   "outputs": [],
   "source": [
    "#plotting the results.\n",
    "\n",
    "legend = []\n",
    "for res_all_L, L in zip(res_all, Ls):\n",
    "    for res, mu in zip(res_all_L,  mu_all):\n",
    "        plt.plot(x, res)\n",
    "        legend.append(\"$\\mu$ = {}, L = {}\".format(mu, L))\n",
    "plt.legend(legend)\n",
    "plt.show()"
   ]
  },
  {
   "cell_type": "code",
   "execution_count": null,
   "id": "b94b45ba",
   "metadata": {},
   "outputs": [],
   "source": [
    "#printing output integral error.\n",
    "\n",
    "print(\"relative L2 error in % between L=4,6 and L=5,6\")\n",
    "for res_4, res_5, res_6, mu in zip(res_all[0], res_all[1], res_all[2], mu_all):\n",
    "    l2norm6 = np.sqrt(sum((res_6)**2))\n",
    "    err65 = np.sqrt(sum((res_6-res_5)**2))/l2norm6\n",
    "    err64 = np.sqrt(sum((res_6-res_4)**2))/l2norm6\n",
    "    print(\"mu = \", mu, \" err:\", err65*100.0, err64*100.0)"
   ]
  },
  {
   "cell_type": "code",
   "execution_count": null,
   "id": "75949d1b",
   "metadata": {},
   "outputs": [],
   "source": []
  }
 ],
 "metadata": {
  "kernelspec": {
   "display_name": "Python 3 (ipykernel)",
   "language": "python",
   "name": "python3"
  },
  "language_info": {
   "codemirror_mode": {
    "name": "ipython",
    "version": 3
   },
   "file_extension": ".py",
   "mimetype": "text/x-python",
   "name": "python",
   "nbconvert_exporter": "python",
   "pygments_lexer": "ipython3",
   "version": "3.9.13"
  }
 },
 "nbformat": 4,
 "nbformat_minor": 5
}
